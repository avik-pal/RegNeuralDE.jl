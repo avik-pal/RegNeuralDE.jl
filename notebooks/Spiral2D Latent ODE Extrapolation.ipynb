{
 "cells": [
  {
   "cell_type": "code",
   "execution_count": null,
   "metadata": {},
   "outputs": [],
   "source": [
    "using Revise"
   ]
  },
  {
   "cell_type": "code",
   "execution_count": null,
   "metadata": {},
   "outputs": [],
   "source": [
    "using RegNeuralODE, Plots, OrdinaryDiffEq, Flux\n",
    "using Plots.PlotMeasures"
   ]
  },
  {
   "cell_type": "code",
   "execution_count": null,
   "metadata": {},
   "outputs": [],
   "source": [
    "train_dataloader, test_dataloader = load_spiral2d(256; nspiral = 256, stop = Float32(6π),\n",
    "                                                  start = 0.0f0, b = 0.3f0, noise_std = 0.3f0);\n",
    "sts = train_dataloader.data[2][:, 1];"
   ]
  },
  {
   "cell_type": "code",
   "execution_count": null,
   "metadata": {},
   "outputs": [],
   "source": [
    "vanilla_node = ExtrapolationLatentODE(4, 2, 64, 64,\n",
    "                                      nn -> NFECounterNeuralODE(nn, (0.0f0, Float32(6π)),\n",
    "                                                                Tsit5(), saveat = sts,\n",
    "                                                                reltol = 1f-3, abstol = 1f-3),\n",
    "                                      cpu)\n",
    "loss_unreg = RegNeuralODE.get_loss_function(vanilla_node)\n",
    "opt_vanilla_node = ADAM(0.01)\n",
    "\n",
    "reg_node = ExtrapolationLatentODE(4, 2, 64, 64,\n",
    "                                  nn -> NFECounterCallbackNeuralODE(nn, (0.0f0, Float32(6π)),\n",
    "                                                                    Tsit5(), saveat = sts,\n",
    "                                                                    reltol = 1f-3, abstol = 1f-3),\n",
    "                                  cpu)\n",
    "# Start with the same initialization\n",
    "reg_node.p1 .= vanilla_node.p1\n",
    "reg_node.p2 .= vanilla_node.p2\n",
    "reg_node.p3 .= vanilla_node.p3\n",
    "loss_reg = RegNeuralODE.get_loss_function(reg_node; λ = 1.0f2)\n",
    "opt_reg_node = ADAM(0.01)"
   ]
  },
  {
   "cell_type": "code",
   "execution_count": null,
   "metadata": {},
   "outputs": [],
   "source": [
    "reg_node, nfe_count_reg_node, train_losses_reg_node, test_losses_reg_node =\n",
    "    RegNeuralODE.train!(reg_node, opt_reg_node, 1000, train_dataloader,\n",
    "                        test_dataloader, loss_reg, loss_unreg);"
   ]
  },
  {
   "cell_type": "code",
   "execution_count": null,
   "metadata": {},
   "outputs": [],
   "source": [
    "vanilla_node, nfe_count_vanilla_node, train_losses_vanilla_node, test_losses_vanilla_node =\n",
    "    RegNeuralODE.train!(vanilla_node, opt_vanilla_node, 1000, train_dataloader,\n",
    "                        test_dataloader, loss_unreg);"
   ]
  },
  {
   "cell_type": "code",
   "execution_count": null,
   "metadata": {},
   "outputs": [],
   "source": [
    "plot(nfe_count_vanilla_node, lw = 2, color = :blue, linestyle = :dash,\n",
    "     right_margin = 20mm, legend = false)\n",
    "plot!(nfe_count_reg_node, lw = 2, color = :blue,\n",
    "      right_margin = 20mm, legend = false)\n",
    "ylims!(75.0, 200.0)\n",
    "ylabel!(\"NFE Count\")\n",
    "plt = twinx()\n",
    "plot!(plt, train_losses_vanilla_node[2:end], color=:red, legend = :topleft,\n",
    "      label = \"NeuralODE\", lw = 2, linestyle = :dash, right_margin = 20mm)\n",
    "plot!(plt, train_losses_reg_node[2:end], color=:red, legend = :topleft,\n",
    "      label = \"RegNODE\", lw = 2, right_margin = 20mm)\n",
    "ylabel!(plt, \"Running (Unregularized) Training Loss\")\n",
    "xlabel!(\"Training Epoch\")\n",
    "savefig(\"latent_ode_extrapolation.png\")"
   ]
  },
  {
   "cell_type": "code",
   "execution_count": null,
   "metadata": {},
   "outputs": [],
   "source": []
  }
 ],
 "metadata": {
  "kernelspec": {
   "display_name": "Julia 1.5.0",
   "language": "julia",
   "name": "julia-1.5"
  },
  "language_info": {
   "file_extension": ".jl",
   "mimetype": "application/julia",
   "name": "julia",
   "version": "1.5.0"
  }
 },
 "nbformat": 4,
 "nbformat_minor": 2
}
