{
 "cells": [
  {
   "cell_type": "code",
   "execution_count": null,
   "metadata": {},
   "outputs": [],
   "source": [
    "using Revise"
   ]
  },
  {
   "cell_type": "code",
   "execution_count": null,
   "metadata": {},
   "outputs": [],
   "source": [
    "using RegNeuralODE, Plots, OrdinaryDiffEq, Flux\n",
    "using Plots.PlotMeasures"
   ]
  },
  {
   "cell_type": "code",
   "execution_count": null,
   "metadata": {},
   "outputs": [],
   "source": [
    "# TODO: This is a model from the DiffEqFlux Tutorial. We need to use GPU (TrackerAdjoint)\n",
    "#       if we want to train the models from the easy-neural-ode paper\n",
    "vanilla_node = ClassifierNODE(\n",
    "    Chain(flatten, Dense(784, 20, tanh)),\n",
    "    NFECounterNeuralODE(Chain(Dense(20, 10, tanh),\n",
    "                              Dense(10, 10, tanh),\n",
    "                              Dense(10, 20, tanh)),\n",
    "                        [0.f0, 1.f0], Tsit5(),\n",
    "                        save_everystep = false,\n",
    "                        reltol = 6f-5, abstol = 6f-5,\n",
    "                        save_start = false),\n",
    "    Chain(RegNeuralODE.diffeqsol_to_array, Dense(20, 10))\n",
    ")\n",
    "opt_vanilla_node = ADAM(0.01)\n",
    "\n",
    "reg_node = ClassifierNODE(\n",
    "    Chain(flatten, Dense(784, 20, tanh)),\n",
    "    NFECounterCallbackNeuralODE(Chain(Dense(20, 10, tanh),\n",
    "                                      Dense(10, 10, tanh),\n",
    "                                      Dense(10, 20, tanh)),\n",
    "                                [0.f0, 1.f0], Tsit5(),\n",
    "                                save_everystep = false,\n",
    "                                reltol = 6f-5, abstol = 6f-5,\n",
    "                                save_start = false),\n",
    "    Chain(RegNeuralODE.diffeqsol_to_array, Dense(20, 10))\n",
    ")\n",
    "# Start with the same initialization\n",
    "reg_node.p1 .= vanilla_node.p1\n",
    "reg_node.p2 .= vanilla_node.p2\n",
    "reg_node.p3 .= vanilla_node.p3\n",
    "opt_reg_node = ADAM(0.01)"
   ]
  },
  {
   "cell_type": "code",
   "execution_count": null,
   "metadata": {},
   "outputs": [],
   "source": [
    "train_dataloader, test_dataloader = load_mnist(4096);"
   ]
  },
  {
   "cell_type": "code",
   "execution_count": null,
   "metadata": {},
   "outputs": [],
   "source": [
    "vanilla_node, vanilla_node_nfe_count, vanilla_node_train_accuracy, vanilla_node_test_accuracy =\n",
    "    RegNeuralODE.train!(vanilla_node, opt_vanilla_node, 50,\n",
    "                        train_dataloader, test_dataloader,\n",
    "                        RegNeuralODE.get_loss_function(vanilla_node))"
   ]
  },
  {
   "cell_type": "code",
   "execution_count": null,
   "metadata": {},
   "outputs": [],
   "source": [
    "reg_node, reg_node_nfe_count, reg_node_train_accuracy, reg_node_test_accuracy =\n",
    "    RegNeuralODE.train!(reg_node, opt_reg_node, 50,\n",
    "                        train_dataloader, test_dataloader,\n",
    "                        RegNeuralODE.get_loss_function(reg_node))"
   ]
  },
  {
   "cell_type": "code",
   "execution_count": null,
   "metadata": {},
   "outputs": [],
   "source": [
    "plot(vanilla_node_nfe_count, legend = :topleft, lw = 2,\n",
    "     label = \"NeuralODE\", color = :blue, linestyle = :dash,\n",
    "     right_margin = 10mm)\n",
    "plot!(reg_node_nfe_count, legend = :topleft, lw = 2,\n",
    "      label = \"RegNODE\", color = :blue, right_margin = 10mm)\n",
    "ylims!(25.0, 50.0)\n",
    "ylabel!(\"NFE Count\")\n",
    "plt = twinx()\n",
    "plot!(plt, (1 .- vanilla_node_test_accuracy[2:end]) * 100, color=:red,\n",
    "      legend=false, lw = 2, linestyle = :dash, right_margin = 10mm)\n",
    "plot!(plt, (1 .- reg_node_test_accuracy[2:end]) * 100, color=:red,\n",
    "      legend=false, lw = 2, right_margin = 10mm)\n",
    "ylabel!(plt, \"Test Error (%)\")\n",
    "xlabel!(\"Training Epoch\")\n",
    "savefig(\"mnist_classification.png\")"
   ]
  },
  {
   "cell_type": "code",
   "execution_count": null,
   "metadata": {},
   "outputs": [],
   "source": []
  }
 ],
 "metadata": {
  "kernelspec": {
   "display_name": "Julia 1.5.0",
   "language": "julia",
   "name": "julia-1.5"
  },
  "language_info": {
   "file_extension": ".jl",
   "mimetype": "application/julia",
   "name": "julia",
   "version": "1.5.0"
  }
 },
 "nbformat": 4,
 "nbformat_minor": 2
}
